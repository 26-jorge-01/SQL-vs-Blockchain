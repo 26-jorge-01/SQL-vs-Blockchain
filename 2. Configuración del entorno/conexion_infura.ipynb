{
 "cells": [
  {
   "cell_type": "code",
   "execution_count": 1,
   "metadata": {},
   "outputs": [],
   "source": [
    "from web3 import Web3"
   ]
  },
  {
   "cell_type": "code",
   "execution_count": 18,
   "metadata": {},
   "outputs": [],
   "source": [
    "# URL de Infura para la red de pruebas Linea\n",
    "infura_url = \"https://sepolia.infura.io/v3/b1f4149cae3f47c580b3027e0faa7923\""
   ]
  },
  {
   "cell_type": "code",
   "execution_count": 19,
   "metadata": {},
   "outputs": [],
   "source": [
    "# Conectar con Web3\n",
    "web3 = Web3(Web3.HTTPProvider(infura_url))"
   ]
  },
  {
   "cell_type": "code",
   "execution_count": 20,
   "metadata": {},
   "outputs": [
    {
     "name": "stdout",
     "output_type": "stream",
     "text": [
      "Conexión exitosa a la red de pruebas Linea\n"
     ]
    }
   ],
   "source": [
    "# Verificar si la conexión es exitosa\n",
    "if web3.is_connected():\n",
    "    print(\"Conexión exitosa a la red de pruebas Linea\")\n",
    "else:\n",
    "    print(\"Error al conectar con la red de pruebas\")"
   ]
  },
  {
   "cell_type": "code",
   "execution_count": 21,
   "metadata": {},
   "outputs": [
    {
     "name": "stdout",
     "output_type": "stream",
     "text": [
      "Número de bloque actual: 7118467\n"
     ]
    }
   ],
   "source": [
    "# Ejemplo de cómo obtener el número de bloque actual\n",
    "block_number = web3.eth.block_number\n",
    "print(f\"Número de bloque actual: {block_number}\")"
   ]
  },
  {
   "cell_type": "code",
   "execution_count": 22,
   "metadata": {},
   "outputs": [
    {
     "name": "stdout",
     "output_type": "stream",
     "text": [
      "Saldo de la dirección: 0.033541521204320271 ETH\n"
     ]
    }
   ],
   "source": [
    "# Dirección de ejemplo\n",
    "address = \"0x7b17528eE8Bd97F13bC3b5Ad27ccf9Ce43Cdc826\"\n",
    "\n",
    "# Obtener el saldo en wei (1 ETH = 10^18 wei)\n",
    "balance_wei = web3.eth.get_balance(address)\n",
    "\n",
    "# Convertir de wei a ether\n",
    "balance_eth = web3.from_wei(balance_wei, 'ether')\n",
    "print(f\"Saldo de la dirección: {balance_eth} ETH\")"
   ]
  },
  {
   "cell_type": "code",
   "execution_count": null,
   "metadata": {},
   "outputs": [],
   "source": []
  }
 ],
 "metadata": {
  "kernelspec": {
   "display_name": "Python 3",
   "language": "python",
   "name": "python3"
  },
  "language_info": {
   "codemirror_mode": {
    "name": "ipython",
    "version": 3
   },
   "file_extension": ".py",
   "mimetype": "text/x-python",
   "name": "python",
   "nbconvert_exporter": "python",
   "pygments_lexer": "ipython3",
   "version": "3.11.9"
  }
 },
 "nbformat": 4,
 "nbformat_minor": 2
}
