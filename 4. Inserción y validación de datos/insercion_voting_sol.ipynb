{
 "cells": [
  {
   "cell_type": "code",
   "execution_count": 1,
   "metadata": {},
   "outputs": [],
   "source": [
    "from web3 import Web3"
   ]
  },
  {
   "cell_type": "code",
   "execution_count": 2,
   "metadata": {},
   "outputs": [
    {
     "name": "stdout",
     "output_type": "stream",
     "text": [
      "Conectado a la red Sepolia\n"
     ]
    }
   ],
   "source": [
    "# Conexión a un nodo Sepolia (usando Infura en este ejemplo)\n",
    "sepolia_url = \"https://sepolia.infura.io/v3/b1f4149cae3f47c580b3027e0faa7923\"  # Reemplaza con tu URL de Infura o un nodo similar\n",
    "web3 = Web3(Web3.HTTPProvider(sepolia_url))\n",
    "\n",
    "# Verifica si estás conectado a la red Sepolia\n",
    "if web3.is_connected():\n",
    "    print(\"Conectado a la red Sepolia\")\n",
    "else:\n",
    "    print(\"No se pudo conectar a la red Sepolia\")"
   ]
  },
  {
   "cell_type": "code",
   "execution_count": 5,
   "metadata": {},
   "outputs": [],
   "source": [
    "# Dirección del contrato desplegado en Sepolia\n",
    "contract_address = \"0x33cc0fb2d0d3b0a867d50eb3d465f50efd054ea7\"  # Reemplaza con la dirección de tu contrato"
   ]
  },
  {
   "cell_type": "code",
   "execution_count": 4,
   "metadata": {},
   "outputs": [],
   "source": [
    "# ABI del contrato (copiado desde Remix) - Application Binary Interface -\n",
    "contract_abi = [\n",
    "    {\n",
    "        \"inputs\": [],\n",
    "        \"stateMutability\": \"nonpayable\",\n",
    "        \"type\": \"constructor\"\n",
    "    },\n",
    "    {\n",
    "        \"inputs\": [\n",
    "            {\n",
    "                \"internalType\": \"uint256\",\n",
    "                \"name\": \"_candidateId\",\n",
    "                \"type\": \"uint256\"\n",
    "            }\n",
    "        ],\n",
    "        \"name\": \"getCandidate\",\n",
    "        \"outputs\": [\n",
    "            {\n",
    "                \"internalType\": \"uint256\",\n",
    "                \"name\": \"\",\n",
    "                \"type\": \"uint256\"\n",
    "            },\n",
    "            {\n",
    "                \"internalType\": \"string\",\n",
    "                \"name\": \"\",\n",
    "                \"type\": \"string\"\n",
    "            },\n",
    "            {\n",
    "                \"internalType\": \"uint256\",\n",
    "                \"name\": \"\",\n",
    "                \"type\": \"uint256\"\n",
    "            }\n",
    "        ],\n",
    "        \"stateMutability\": \"view\",\n",
    "        \"type\": \"function\"\n",
    "    },\n",
    "    {\n",
    "        \"inputs\": [],\n",
    "        \"name\": \"candidatesCount\",\n",
    "        \"outputs\": [\n",
    "            {\n",
    "                \"internalType\": \"uint256\",\n",
    "                \"name\": \"\",\n",
    "                \"type\": \"uint256\"\n",
    "            }\n",
    "        ],\n",
    "        \"stateMutability\": \"view\",\n",
    "        \"type\": \"function\"\n",
    "    },\n",
    "    {\n",
    "        \"inputs\": [\n",
    "            {\n",
    "                \"internalType\": \"uint256\",\n",
    "                \"name\": \"\",\n",
    "                \"type\": \"uint256\"\n",
    "            }\n",
    "        ],\n",
    "        \"name\": \"candidates\",\n",
    "        \"outputs\": [\n",
    "            {\n",
    "                \"internalType\": \"uint256\",\n",
    "                \"name\": \"id\",\n",
    "                \"type\": \"uint256\"\n",
    "            },\n",
    "            {\n",
    "                \"internalType\": \"string\",\n",
    "                \"name\": \"name\",\n",
    "                \"type\": \"string\"\n",
    "            },\n",
    "            {\n",
    "                \"internalType\": \"uint256\",\n",
    "                \"name\": \"voteCount\",\n",
    "                \"type\": \"uint256\"\n",
    "            }\n",
    "        ],\n",
    "        \"stateMutability\": \"view\",\n",
    "        \"type\": \"function\"\n",
    "    },\n",
    "    {\n",
    "        \"inputs\": [\n",
    "            {\n",
    "                \"internalType\": \"address\",\n",
    "                \"name\": \"\",\n",
    "                \"type\": \"address\"\n",
    "            }\n",
    "        ],\n",
    "        \"name\": \"voters\",\n",
    "        \"outputs\": [\n",
    "            {\n",
    "                \"internalType\": \"bool\",\n",
    "                \"name\": \"\",\n",
    "                \"type\": \"bool\"\n",
    "            }\n",
    "        ],\n",
    "        \"stateMutability\": \"view\",\n",
    "        \"type\": \"function\"\n",
    "    },\n",
    "    {\n",
    "        \"inputs\": [\n",
    "            {\n",
    "                \"internalType\": \"uint256\",\n",
    "                \"name\": \"_candidateId\",\n",
    "                \"type\": \"uint256\"\n",
    "            }\n",
    "        ],\n",
    "        \"name\": \"vote\",\n",
    "        \"outputs\": [],\n",
    "        \"stateMutability\": \"nonpayable\",\n",
    "        \"type\": \"function\"\n",
    "    }\n",
    "]"
   ]
  },
  {
   "cell_type": "code",
   "execution_count": 7,
   "metadata": {},
   "outputs": [],
   "source": [
    "# Convertir la dirección al formato checksum\n",
    "contract_address_checksum = Web3.to_checksum_address(contract_address)\n",
    "\n",
    "# Ahora utiliza esta dirección en la instancia del contrato\n",
    "contract = web3.eth.contract(address=contract_address_checksum, abi=contract_abi)"
   ]
  },
  {
   "cell_type": "code",
   "execution_count": 9,
   "metadata": {},
   "outputs": [],
   "source": [
    "# Ejemplo 1: Consultar información de un candidato\n",
    "def get_candidate_info(candidate_id):\n",
    "    try:\n",
    "        candidate = contract.functions.getCandidate(candidate_id).call()\n",
    "        print(f\"ID: {candidate[0]}, Nombre: {candidate[1]}, Votos: {candidate[2]}\")\n",
    "    except Exception as e:\n",
    "        print(f\"Error al obtener la información del candidato: {e}\")"
   ]
  },
  {
   "cell_type": "code",
   "execution_count": 10,
   "metadata": {},
   "outputs": [
    {
     "name": "stdout",
     "output_type": "stream",
     "text": [
      "ID: 1, Nombre: Alice, Votos: 0\n"
     ]
    }
   ],
   "source": [
    "get_candidate_info(1)  # Obtén información del candidato con ID 1"
   ]
  },
  {
   "cell_type": "code",
   "execution_count": 11,
   "metadata": {},
   "outputs": [],
   "source": [
    "# Ejemplo 2: Verificar si una dirección ya votó\n",
    "def has_voted(voter_address):\n",
    "    try:\n",
    "        voted = contract.functions.voters(voter_address).call()\n",
    "        print(f\"La dirección {voter_address} ya ha votado: {voted}\")\n",
    "    except Exception as e:\n",
    "        print(f\"Error al verificar si la dirección ha votado: {e}\")"
   ]
  },
  {
   "cell_type": "code",
   "execution_count": 12,
   "metadata": {},
   "outputs": [
    {
     "name": "stdout",
     "output_type": "stream",
     "text": [
      "La dirección 0x7b17528eE8Bd97F13bC3b5Ad27ccf9Ce43Cdc826 ya ha votado: False\n"
     ]
    }
   ],
   "source": [
    "has_voted(\"0x7b17528eE8Bd97F13bC3b5Ad27ccf9Ce43Cdc826\")  # Reemplaza con una dirección para verificar si ha votado"
   ]
  },
  {
   "cell_type": "code",
   "execution_count": 8,
   "metadata": {},
   "outputs": [],
   "source": [
    "# Ejemplo 3: Emitir un voto\n",
    "def vote(candidate_id, account_address, private_key):\n",
    "    try:\n",
    "        # Configurar la transacción\n",
    "        transaction = contract.functions.vote(candidate_id).build_transaction({\n",
    "            'from': account_address,\n",
    "            'nonce': web3.eth.get_transaction_count(account_address),\n",
    "            'gas': 2000000,\n",
    "            'gasPrice': web3.to_wei('50', 'gwei'),\n",
    "            'chainId': 11155111  # Sepolia Chain ID\n",
    "        })\n",
    "\n",
    "        # Firmar la transacción\n",
    "        signed_txn = web3.eth.account.sign_transaction(transaction, private_key)\n",
    "\n",
    "        # Enviar la transacción\n",
    "        txn_hash = web3.eth.send_raw_transaction(signed_txn.rawTransaction)\n",
    "\n",
    "        # Esperar a que se mine la transacción\n",
    "        txn_receipt = web3.eth.wait_for_transaction_receipt(txn_hash)\n",
    "        print(f\"Voto emitido con éxito. Hash de transacción: {txn_receipt.transactionHash.hex()}\")\n",
    "    except Exception as e:\n",
    "        print(f\"Error al emitir el voto: {e}\")"
   ]
  },
  {
   "cell_type": "code",
   "execution_count": null,
   "metadata": {},
   "outputs": [],
   "source": [
    "# vote(1, \"0x7b17528eE8Bd97F13bC3b5Ad27ccf9Ce43Cdc826\", \"0xYourPrivateKeyHere\")  # Reemplaza con la dirección y clave privada para votar"
   ]
  }
 ],
 "metadata": {
  "kernelspec": {
   "display_name": ".venv",
   "language": "python",
   "name": "python3"
  },
  "language_info": {
   "codemirror_mode": {
    "name": "ipython",
    "version": 3
   },
   "file_extension": ".py",
   "mimetype": "text/x-python",
   "name": "python",
   "nbconvert_exporter": "python",
   "pygments_lexer": "ipython3",
   "version": "3.11.9"
  }
 },
 "nbformat": 4,
 "nbformat_minor": 2
}
