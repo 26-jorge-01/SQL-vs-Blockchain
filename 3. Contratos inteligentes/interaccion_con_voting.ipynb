{
 "cells": [
  {
   "cell_type": "code",
   "execution_count": 1,
   "metadata": {},
   "outputs": [],
   "source": [
    "from web3 import Web3"
   ]
  },
  {
   "cell_type": "code",
   "execution_count": 2,
   "metadata": {},
   "outputs": [
    {
     "name": "stdout",
     "output_type": "stream",
     "text": [
      "Conectado a la red Sepolia\n"
     ]
    }
   ],
   "source": [
    "# Conexión a un nodo Sepolia (usando Infura en este ejemplo)\n",
    "sepolia_url = \"https://sepolia.infura.io/v3/b1f4149cae3f47c580b3027e0faa7923\"  # Reemplaza con tu URL de Infura o un nodo similar\n",
    "web3 = Web3(Web3.HTTPProvider(sepolia_url))\n",
    "\n",
    "# Verifica si estás conectado a la red Sepolia\n",
    "if web3.is_connected():\n",
    "    print(\"Conectado a la red Sepolia\")\n",
    "else:\n",
    "    print(\"No se pudo conectar a la red Sepolia\")"
   ]
  },
  {
   "cell_type": "code",
   "execution_count": 5,
   "metadata": {},
   "outputs": [],
   "source": [
    "# Dirección del contrato desplegado en Sepolia\n",
    "contract_address = \"0x33cc0fb2d0d3b0a867d50eb3d465f50efd054ea7\"  # Reemplaza con la dirección de tu contrato"
   ]
  },
  {
   "cell_type": "code",
   "execution_count": 4,
   "metadata": {},
   "outputs": [],
   "source": [
    "# ABI del contrato (copiado desde Remix) - Application Binary Interface -\n",
    "contract_abi = [\n",
    "    {\n",
    "        \"inputs\": [],\n",
    "        \"stateMutability\": \"nonpayable\",\n",
    "        \"type\": \"constructor\"\n",
    "    },\n",
    "    {\n",
    "        \"inputs\": [\n",
    "            {\n",
    "                \"internalType\": \"uint256\",\n",
    "                \"name\": \"_candidateId\",\n",
    "                \"type\": \"uint256\"\n",
    "            }\n",
    "        ],\n",
    "        \"name\": \"getCandidate\",\n",
    "        \"outputs\": [\n",
    "            {\n",
    "                \"internalType\": \"uint256\",\n",
    "                \"name\": \"\",\n",
    "                \"type\": \"uint256\"\n",
    "            },\n",
    "            {\n",
    "                \"internalType\": \"string\",\n",
    "                \"name\": \"\",\n",
    "                \"type\": \"string\"\n",
    "            },\n",
    "            {\n",
    "                \"internalType\": \"uint256\",\n",
    "                \"name\": \"\",\n",
    "                \"type\": \"uint256\"\n",
    "            }\n",
    "        ],\n",
    "        \"stateMutability\": \"view\",\n",
    "        \"type\": \"function\"\n",
    "    },\n",
    "    {\n",
    "        \"inputs\": [],\n",
    "        \"name\": \"candidatesCount\",\n",
    "        \"outputs\": [\n",
    "            {\n",
    "                \"internalType\": \"uint256\",\n",
    "                \"name\": \"\",\n",
    "                \"type\": \"uint256\"\n",
    "            }\n",
    "        ],\n",
    "        \"stateMutability\": \"view\",\n",
    "        \"type\": \"function\"\n",
    "    },\n",
    "    {\n",
    "        \"inputs\": [\n",
    "            {\n",
    "                \"internalType\": \"uint256\",\n",
    "                \"name\": \"\",\n",
    "                \"type\": \"uint256\"\n",
    "            }\n",
    "        ],\n",
    "        \"name\": \"candidates\",\n",
    "        \"outputs\": [\n",
    "            {\n",
    "                \"internalType\": \"uint256\",\n",
    "                \"name\": \"id\",\n",
    "                \"type\": \"uint256\"\n",
    "            },\n",
    "            {\n",
    "                \"internalType\": \"string\",\n",
    "                \"name\": \"name\",\n",
    "                \"type\": \"string\"\n",
    "            },\n",
    "            {\n",
    "                \"internalType\": \"uint256\",\n",
    "                \"name\": \"voteCount\",\n",
    "                \"type\": \"uint256\"\n",
    "            }\n",
    "        ],\n",
    "        \"stateMutability\": \"view\",\n",
    "        \"type\": \"function\"\n",
    "    },\n",
    "    {\n",
    "        \"inputs\": [\n",
    "            {\n",
    "                \"internalType\": \"address\",\n",
    "                \"name\": \"\",\n",
    "                \"type\": \"address\"\n",
    "            }\n",
    "        ],\n",
    "        \"name\": \"voters\",\n",
    "        \"outputs\": [\n",
    "            {\n",
    "                \"internalType\": \"bool\",\n",
    "                \"name\": \"\",\n",
    "                \"type\": \"bool\"\n",
    "            }\n",
    "        ],\n",
    "        \"stateMutability\": \"view\",\n",
    "        \"type\": \"function\"\n",
    "    },\n",
    "    {\n",
    "        \"inputs\": [\n",
    "            {\n",
    "                \"internalType\": \"uint256\",\n",
    "                \"name\": \"_candidateId\",\n",
    "                \"type\": \"uint256\"\n",
    "            }\n",
    "        ],\n",
    "        \"name\": \"vote\",\n",
    "        \"outputs\": [],\n",
    "        \"stateMutability\": \"nonpayable\",\n",
    "        \"type\": \"function\"\n",
    "    }\n",
    "]"
   ]
  },
  {
   "cell_type": "code",
   "execution_count": 7,
   "metadata": {},
   "outputs": [],
   "source": [
    "# Convertir la dirección al formato checksum\n",
    "contract_address_checksum = Web3.to_checksum_address(contract_address)\n",
    "\n",
    "# Ahora utiliza esta dirección en la instancia del contrato\n",
    "contract = web3.eth.contract(address=contract_address_checksum, abi=contract_abi)"
   ]
  },
  {
   "cell_type": "code",
   "execution_count": null,
   "metadata": {},
   "outputs": [],
   "source": []
  }
 ],
 "metadata": {
  "kernelspec": {
   "display_name": ".venv",
   "language": "python",
   "name": "python3"
  },
  "language_info": {
   "codemirror_mode": {
    "name": "ipython",
    "version": 3
   },
   "file_extension": ".py",
   "mimetype": "text/x-python",
   "name": "python",
   "nbconvert_exporter": "python",
   "pygments_lexer": "ipython3",
   "version": "3.11.9"
  }
 },
 "nbformat": 4,
 "nbformat_minor": 2
}
